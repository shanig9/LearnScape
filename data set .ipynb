{
 "cells": [
  {
   "cell_type": "code",
   "execution_count": 2,
   "id": "98593a51-2522-4362-97d3-2360f56dc66a",
   "metadata": {},
   "outputs": [],
   "source": [
    "import requests\n",
    "import json\n",
    "import csv\n",
    "import pandas as pd\n",
    "import time\n",
    "import os\n"
   ]
  },
  {
   "cell_type": "code",
   "execution_count": 6,
   "id": "8aeda87a-d615-4864-b72d-159545376bc0",
   "metadata": {},
   "outputs": [
    {
     "name": "stderr",
     "output_type": "stream",
     "text": [
      "C:\\Users\\DELL\\anaconda3\\Lib\\site-packages\\urllib3\\connectionpool.py:1099: InsecureRequestWarning: Unverified HTTPS request is being made to host 'jsonkeeper.com'. Adding certificate verification is strongly advised. See: https://urllib3.readthedocs.io/en/latest/advanced-usage.html#tls-warnings\n",
      "  warnings.warn(\n"
     ]
    },
    {
     "name": "stdout",
     "output_type": "stream",
     "text": [
      "An unexpected error occurred processing https://jsonkeeper.com/b/LLQT: 'int' object has no attribute 'items'\n"
     ]
    },
    {
     "name": "stderr",
     "output_type": "stream",
     "text": [
      "C:\\Users\\DELL\\anaconda3\\Lib\\site-packages\\urllib3\\connectionpool.py:1099: InsecureRequestWarning: Unverified HTTPS request is being made to host 'api.jsonserve.com'. Adding certificate verification is strongly advised. See: https://urllib3.readthedocs.io/en/latest/advanced-usage.html#tls-warnings\n",
      "  warnings.warn(\n"
     ]
    },
    {
     "name": "stdout",
     "output_type": "stream",
     "text": [
      "An unexpected error occurred processing https://api.jsonserve.com/rJvd7g: 'int' object has no attribute 'items'\n"
     ]
    },
    {
     "name": "stderr",
     "output_type": "stream",
     "text": [
      "C:\\Users\\DELL\\anaconda3\\Lib\\site-packages\\urllib3\\connectionpool.py:1099: InsecureRequestWarning: Unverified HTTPS request is being made to host 'api.jsonserve.com'. Adding certificate verification is strongly advised. See: https://urllib3.readthedocs.io/en/latest/advanced-usage.html#tls-warnings\n",
      "  warnings.warn(\n"
     ]
    },
    {
     "name": "stdout",
     "output_type": "stream",
     "text": [
      "An unexpected error occurred processing https://api.jsonserve.com/XgAgFJ: list indices must be integers or slices, not dict\n",
      "File data_1.csv not found.\n",
      "File data_2.csv not found.\n",
      "File data_3.csv not found.\n"
     ]
    }
   ],
   "source": [
    "def flatten_json(nested_json, prefix=''):\n",
    "    \"\"\"Flattens a nested JSON object.\"\"\"\n",
    "    flat_json = {}\n",
    "    for i in nested_json:\n",
    "        for k, v in nested_json[i].items():\n",
    "            new_key = prefix + k\n",
    "            if isinstance(v, dict):\n",
    "                flat_json.update(flatten_json(v, new_key + '_'))\n",
    "            elif isinstance(v, list):\n",
    "                for index, item in enumerate(v):\n",
    "                    if isinstance(item,dict):\n",
    "                        flat_json.update(flatten_json(item, new_key + f'_{index}_'))\n",
    "                    else:\n",
    "                        flat_json[new_key + f'_{index}'] = item\n",
    "            else:\n",
    "                flat_json[new_key] = v\n",
    "    return flat_json\n",
    "\n",
    "def update_csv_from_api(api_url, csv_filename):\n",
    "    \"\"\"Fetches data from API, flattens it, and updates CSV.\"\"\"\n",
    "    try:\n",
    "        response = requests.get(api_url,verify=False)\n",
    "        response.raise_for_status()\n",
    "        data = response.json()\n",
    "\n",
    "        if not data:\n",
    "            print(f\"No data received from API: {api_url}. CSV not updated.\")\n",
    "            return\n",
    "\n",
    "        all_flat_data = []\n",
    "        for item in data:\n",
    "            flat_data = flatten_json({item : data[item]})\n",
    "            all_flat_data.append(flat_data)\n",
    "\n",
    "        df = pd.DataFrame(all_flat_data)\n",
    "        df.to_csv(csv_filename, index=False, encoding='utf-8')\n",
    "        print(f\"CSV file '{csv_filename}' updated successfully from {api_url}.\")\n",
    "\n",
    "    except requests.exceptions.RequestException as e:\n",
    "        print(f\"Error fetching data from API {api_url}: {e}\")\n",
    "    except json.JSONDecodeError as e:\n",
    "        print(f\"Error decoding JSON response from {api_url}: {e}. Response text: {response.text}\")\n",
    "    except Exception as e:\n",
    "        print(f\"An unexpected error occurred processing {api_url}: {e}\")\n",
    "\n",
    "def update_all_csvs(api_urls, base_filename=\"output\"):\n",
    "    \"\"\"Updates CSV files for multiple APIs.\"\"\"\n",
    "    for i, api_url in enumerate(api_urls):\n",
    "      csv_filename = f\"{base_filename}_{i+1}.csv\" # Generates unique filenames\n",
    "      update_csv_from_api(api_url, csv_filename)\n",
    "\n",
    "def scheduled_update(api_urls, base_filename=\"output\", interval_seconds=3600):\n",
    "    \"\"\"Updates CSV files for multiple APIs at specified intervals.\"\"\"\n",
    "    while True:\n",
    "        update_all_csvs(api_urls, base_filename)\n",
    "        time.sleep(interval_seconds)\n",
    "\n",
    "# Example Usage\n",
    "api_urls = [\n",
    "    \"https://jsonkeeper.com/b/LLQT\",\n",
    "    \"https://api.jsonserve.com/rJvd7g\",\n",
    "    \"https://api.jsonserve.com/XgAgFJ\"\n",
    "]\n",
    "\n",
    "base_filename = \"data\" # base name of the file\n",
    "# First time update for all APIs\n",
    "update_all_csvs(api_urls, base_filename)\n",
    "\n",
    "# To schedule automatic updates for all APIs (e.g., every hour):\n",
    "# scheduled_update(api_urls, base_filename, 3600) #Uncomment for schedule update\n",
    "\n",
    "#Example of reading the csv files\n",
    "dfs = []\n",
    "for i in range(len(api_urls)):\n",
    "    try:\n",
    "        df = pd.read_csv(f\"{base_filename}_{i+1}.csv\")\n",
    "        dfs.append(df)\n",
    "        print(f\"Dataframe {i+1} head:\\n\",df.head())\n",
    "    except FileNotFoundError:\n",
    "        print(f\"File {base_filename}_{i+1}.csv not found.\")\n",
    "    except pd.errors.EmptyDataError:\n",
    "        print(f\"File {base_filename}_{i+1}.csv is empty.\")\n",
    "    except Exception as e:\n",
    "        print(f\"An error occurred while reading {base_filename}_{i+1}.csv: {e}\")"
   ]
  },
  {
   "cell_type": "code",
   "execution_count": 8,
   "id": "5a498a00-4ba9-4f7f-995c-80be702f4f56",
   "metadata": {},
   "outputs": [
    {
     "name": "stderr",
     "output_type": "stream",
     "text": [
      "C:\\Users\\DELL\\anaconda3\\Lib\\site-packages\\urllib3\\connectionpool.py:1099: InsecureRequestWarning: Unverified HTTPS request is being made to host 'jsonkeeper.com'. Adding certificate verification is strongly advised. See: https://urllib3.readthedocs.io/en/latest/advanced-usage.html#tls-warnings\n",
      "  warnings.warn(\n"
     ]
    },
    {
     "name": "stdout",
     "output_type": "stream",
     "text": [
      "CSV file 'quiz_data.csv' updated successfully from https://jsonkeeper.com/b/LLQT.\n"
     ]
    }
   ],
   "source": [
    "import requests\n",
    "import json\n",
    "import csv\n",
    "import pandas as pd\n",
    "\n",
    "\n",
    "def flatten_json(nested_json, prefix=''):\n",
    "    \"\"\"Flattens a nested JSON object, handling specific structure.\"\"\"\n",
    "    flat_json = {}\n",
    "    for key, value in nested_json.items():\n",
    "        new_key = prefix + key\n",
    "        if isinstance(value, dict):\n",
    "            flat_json.update(flatten_json(value, new_key + '_'))\n",
    "        elif isinstance(value, list):\n",
    "            for index, item in enumerate(value):\n",
    "                if isinstance(item, dict):\n",
    "                    flat_json.update(flatten_json(item, new_key + f'_{index}_'))\n",
    "                else:\n",
    "                    flat_json[new_key + f'_{index}'] = item\n",
    "        else:\n",
    "            flat_json[new_key] = value\n",
    "    return flat_json\n",
    "\n",
    "def update_csv_from_api(api_url, csv_filename):\n",
    "    \"\"\"Fetches data from API, flattens it, and updates CSV.\"\"\"\n",
    "    try:\n",
    "        response = requests.get(api_url, verify=False)\n",
    "        response.raise_for_status()\n",
    "        data = response.json()\n",
    "\n",
    "        if not data:\n",
    "            print(f\"No data received from API: {api_url}. CSV not updated.\")\n",
    "            return\n",
    "\n",
    "        # Handle specific structure for jsonkeeper.com/b/LLQT\n",
    "        all_flat_data = []\n",
    "        quiz_data = data.get('quiz')  # Assuming the key for quiz data is 'quiz'\n",
    "        if quiz_data:\n",
    "            # Flatten nested questions (0 to 127)\n",
    "            questions_0_to_127 = quiz_data.get('questions')\n",
    "            if questions_0_to_127:\n",
    "                for index, question in enumerate(questions_0_to_127):\n",
    "                    flat_question = flatten_json({'question': question})\n",
    "                    flat_question['question_index'] = index  # Add index for clarity\n",
    "                    all_flat_data.append(flat_question)\n",
    "\n",
    "            # Flatten the nested question (index 128)\n",
    "            question_128 = quiz_data.get('question128')\n",
    "            if question_128:\n",
    "                flat_question_128 = flatten_json({'question128': question_128})\n",
    "                all_flat_data.append(flat_question_128)\n",
    "\n",
    "        df = pd.DataFrame(all_flat_data)\n",
    "        df.to_csv(csv_filename, index=False, encoding='utf-8')\n",
    "        print(f\"CSV file '{csv_filename}' updated successfully from {api_url}.\")\n",
    "\n",
    "    except requests.exceptions.RequestException as e:\n",
    "        print(f\"Error fetching data from API {api_url}: {e}\")\n",
    "    except json.JSONDecodeError as e:\n",
    "        print(f\"Error decoding JSON response from {api_url}: {e}. Response text: {response.text}\")\n",
    "    except Exception as e:\n",
    "        print(f\"An unexpected error occurred: {e}\")\n",
    "\n",
    "# Example usage (replace with your actual API URL)\n",
    "api_url = \"https://jsonkeeper.com/b/LLQT\"\n",
    "csv_filename = \"quiz_data.csv\"\n",
    "update_csv_from_api(api_url, csv_filename)"
   ]
  },
  {
   "cell_type": "code",
   "execution_count": 10,
   "id": "e7836507-f767-4109-b08c-ee115ee6e6a4",
   "metadata": {},
   "outputs": [
    {
     "name": "stdout",
     "output_type": "stream",
     "text": [
      "CSV file 'data_from_rJvd7g.csv' updated successfully from https://api.jsonserve.com/rJvd7g.\n"
     ]
    }
   ],
   "source": [
    "def flatten_json(nested_json, prefix=''):\n",
    "    \"\"\"Flattens a nested JSON object, handling nested objects within an 'id' key.\"\"\"\n",
    "    flat_json = {}\n",
    "    for key, value in nested_json.items():\n",
    "        new_key = prefix + key\n",
    "        if isinstance(value, dict):\n",
    "            if key == 'id':  # Handle nested objects within 'id'\n",
    "                for inner_key, inner_value in value.items():\n",
    "                    flat_json.update(flatten_json(inner_value, new_key + '_' + inner_key + '_'))\n",
    "            else:\n",
    "                flat_json.update(flatten_json(value, new_key + '_'))\n",
    "        elif isinstance(value, list):\n",
    "            for index, item in enumerate(value):\n",
    "                if isinstance(item, dict):\n",
    "                    flat_json.update(flatten_json(item, new_key + f'_{index}_'))\n",
    "                else:\n",
    "                    flat_json[new_key + f'_{index}'] = item\n",
    "        else:\n",
    "            flat_json[new_key] = value\n",
    "    return flat_json\n",
    "\n",
    "def update_csv_from_api(api_url, csv_filename):\n",
    "    \"\"\"Fetches data from API, flattens it, and updates CSV.\"\"\"\n",
    "    try:\n",
    "        response = requests.get(api_url)\n",
    "        response.raise_for_status()\n",
    "        data = response.json()\n",
    "\n",
    "        if not data:\n",
    "            print(f\"No data received from API: {api_url}. CSV not updated.\")\n",
    "            return\n",
    "\n",
    "        # Handle specific structure for api.jsonserve.com/rJvd7g\n",
    "        all_flat_data = []\n",
    "        flat_data = flatten_json(data)\n",
    "        all_flat_data.append(flat_data)\n",
    "\n",
    "        df = pd.DataFrame(all_flat_data)\n",
    "        df.to_csv(csv_filename, index=False, encoding='utf-8')\n",
    "        print(f\"CSV file '{csv_filename}' updated successfully from {api_url}.\")\n",
    "\n",
    "    except requests.exceptions.RequestException as e:\n",
    "        print(f\"Error fetching data from API {api_url}: {e}\")\n",
    "    except json.JSONDecodeError as e:\n",
    "        print(f\"Error decoding JSON response from {api_url}: {e}. Response text: {response.text}\")\n",
    "    except Exception as e:\n",
    "        print(f\"An unexpected error occurred: {e}\")\n",
    "\n",
    "# Example usage (replace with your actual API URL)\n",
    "api_url = \"https://api.jsonserve.com/rJvd7g\"\n",
    "csv_filename = \"data_from_rJvd7g.csv\"\n",
    "update_csv_from_api(api_url, csv_filename)"
   ]
  },
  {
   "cell_type": "code",
   "execution_count": 12,
   "id": "c6e768ca-3db7-45e5-80c7-228d13a691d7",
   "metadata": {},
   "outputs": [
    {
     "name": "stdout",
     "output_type": "stream",
     "text": [
      "CSV file 'data_from_XgAgFJ.csv' updated successfully from https://api.jsonserve.com/XgAgFJ.\n"
     ]
    }
   ],
   "source": [
    "def flatten_json(nested_json, prefix=''):\n",
    "    \"\"\"Flattens a nested JSON object, handling multiple nested objects.\"\"\"\n",
    "    flat_json = {}\n",
    "    for key, value in nested_json.items():\n",
    "        new_key = prefix + key\n",
    "        if isinstance(value, dict):\n",
    "            flat_json.update(flatten_json(value, new_key + '_'))\n",
    "        elif isinstance(value, list):\n",
    "            for index, item in enumerate(value):\n",
    "                if isinstance(item, dict):\n",
    "                    flat_json.update(flatten_json(item, new_key + f'_{index}_'))\n",
    "                else:\n",
    "                    flat_json[new_key + f'_{index}'] = item\n",
    "        else:\n",
    "            flat_json[new_key] = value\n",
    "    return flat_json\n",
    "\n",
    "def update_csv_from_api(api_url, csv_filename):\n",
    "    \"\"\"Fetches data from API, flattens it, and updates CSV.\"\"\"\n",
    "    try:\n",
    "        response = requests.get(api_url)\n",
    "        response.raise_for_status()\n",
    "        data = response.json()\n",
    "\n",
    "        if not data:\n",
    "            print(f\"No data received from API: {api_url}. CSV not updated.\")\n",
    "            return\n",
    "\n",
    "        # Handle specific structure for https://api.jsonserve.com/XgAgFJ\n",
    "        all_flat_data = []\n",
    "        for item in data:\n",
    "            flat_data = flatten_json(item)\n",
    "            all_flat_data.append(flat_data)\n",
    "\n",
    "        df = pd.DataFrame(all_flat_data)\n",
    "        df.to_csv(csv_filename, index=False, encoding='utf-8')\n",
    "        print(f\"CSV file '{csv_filename}' updated successfully from {api_url}.\")\n",
    "\n",
    "    except requests.exceptions.RequestException as e:\n",
    "        print(f\"Error fetching data from API {api_url}: {e}\")\n",
    "    except json.JSONDecodeError as e:\n",
    "        print(f\"Error decoding JSON response from {api_url}: {e}. Response text: {response.text}\")\n",
    "    except Exception as e:\n",
    "        print(f\"An unexpected error occurred: {e}\")\n",
    "\n",
    "# Example usage (replace with your actual API URL)\n",
    "api_url = \"https://api.jsonserve.com/XgAgFJ\"\n",
    "csv_filename = \"data_from_XgAgFJ.csv\"\n",
    "update_csv_from_api(api_url, csv_filename)"
   ]
  },
  {
   "cell_type": "code",
   "execution_count": null,
   "id": "1edb32c1-adb2-4397-89c1-44889ac8d818",
   "metadata": {},
   "outputs": [],
   "source": []
  }
 ],
 "metadata": {
  "kernelspec": {
   "display_name": "Python [conda env:base] *",
   "language": "python",
   "name": "conda-base-py"
  },
  "language_info": {
   "codemirror_mode": {
    "name": "ipython",
    "version": 3
   },
   "file_extension": ".py",
   "mimetype": "text/x-python",
   "name": "python",
   "nbconvert_exporter": "python",
   "pygments_lexer": "ipython3",
   "version": "3.12.7"
  }
 },
 "nbformat": 4,
 "nbformat_minor": 5
}
