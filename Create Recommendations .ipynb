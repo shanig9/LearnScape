{
 "cells": [
  {
   "cell_type": "markdown",
   "id": "1090f71a-4c90-4fe4-86b0-8151b9062cc6",
   "metadata": {},
   "source": [
    "# Create Recommendations:\n"
   ]
  },
  {
   "cell_type": "code",
   "execution_count": 2,
   "id": "4c80096c-0607-4db1-a220-a164c7260ae5",
   "metadata": {},
   "outputs": [
    {
     "name": "stdin",
     "output_type": "stream",
     "text": [
      "Enter id (or 'exit'):  333242\n"
     ]
    },
    {
     "name": "stdout",
     "output_type": "stream",
     "text": [
      "Focus on the following topics where you need improvement: Body Fluids and Circulation \n",
      "You're performing well. Continue practicing Hard questions to master the topics.\n",
      "Practice the following question types within those topics: \n"
     ]
    },
    {
     "name": "stdin",
     "output_type": "stream",
     "text": [
      "Enter id (or 'exit'):  exit\n"
     ]
    }
   ],
   "source": [
    "import pandas as pd\n",
    "import numpy as np\n",
    "\n",
    "def generate_user_recommendations(user_df, question_df, user_id_to_analyze, id_column_name='id'):\n",
    "    \"\"\"Generates recommendations for a given user based on their performance and question data.\"\"\"\n",
    "\n",
    "    # Check for required columns in both DataFrames\n",
    "    user_required_cols = [id_column_name, 'submitted_at', 'quiz_created_at', 'accuracy', 'quiz_topic', 'quiz_difficulty_level', 'quiz_name']\n",
    "    question_required_cols = ['question_id', 'question_difficulty_level', 'question_topic', 'question_type']\n",
    "\n",
    "    user_missing_cols = [col for col in user_required_cols if col not in user_df.columns]\n",
    "    question_missing_cols = [col for col in question_required_cols if col not in question_df.columns]\n",
    "\n",
    "    if user_missing_cols:\n",
    "        return f\"Error: Missing columns in user data: {user_missing_cols}\"\n",
    "    if question_missing_cols:\n",
    "        return f\"Error: Missing columns in question data: {question_missing_cols}\"\n",
    "\n",
    "    try:\n",
    "        user_df[id_column_name] = pd.to_numeric(user_df[id_column_name], errors='coerce')\n",
    "    except KeyError:\n",
    "        return f\"Error: Column '{id_column_name}' not found.\"\n",
    "    except Exception as e:\n",
    "        return f\"Error converting '{id_column_name}' to numeric: {e}\"\n",
    "\n",
    "    user_data = user_df[user_df[id_column_name] == user_id_to_analyze].copy()\n",
    "    if user_data.empty:\n",
    "        return f\"No data found for ID: {user_id_to_analyze} in column '{id_column_name}'\"\n",
    "\n",
    "    try:\n",
    "        user_data['submitted_at'] = pd.to_datetime(user_data['submitted_at'])\n",
    "        user_data['quiz_created_at'] = pd.to_datetime(user_data['quiz_created_at'])\n",
    "        user_data['time_taken'] = (user_data['submitted_at'] - user_data['quiz_created_at']).dt.total_seconds()\n",
    "\n",
    "        if user_data['accuracy'].dtype == object:\n",
    "            user_data['accuracy'] = user_data['accuracy'].str.replace('%', '', regex=False).astype(float) / 100\n",
    "        elif pd.api.types.is_numeric_dtype(user_data['accuracy']):\n",
    "            user_data['accuracy'] = pd.to_numeric(user_data['accuracy'], errors='coerce')\n",
    "\n",
    "        user_data.dropna(subset=['accuracy'], inplace=True)\n",
    "        if user_data.empty:\n",
    "            return f\"No valid accuracy data found for ID: {user_id_to_analyze} in column '{id_column_name}'\"\n",
    "\n",
    "        # 1. Weak Areas (Quiz Topics)\n",
    "        topic_performance = user_data.groupby('quiz_topic')['accuracy'].mean().sort_values()\n",
    "        weakest_topics = topic_performance.head(3).index.tolist() #Get topic names\n",
    "\n",
    "        # 2. Difficulty Level Recommendations\n",
    "        average_accuracy = user_data['accuracy'].mean()\n",
    "        if average_accuracy < 0.5:\n",
    "            difficulty_recommendation = \"Focus on Easy and Medium difficulty questions to build a stronger foundation.\"\n",
    "        elif average_accuracy < 0.75:\n",
    "            difficulty_recommendation = \"Continue practicing Medium difficulty questions and gradually introduce Hard questions.\"\n",
    "        else:\n",
    "            difficulty_recommendation = \"You're performing well. Continue practicing Hard questions to master the topics.\"\n",
    "\n",
    "        # 3. Question Type Recommendations (using question_df)\n",
    "        topic_question_types = question_df[question_df['question_topic'].isin(weakest_topics)]['question_type'].value_counts()\n",
    "        recommended_question_types = topic_question_types.index.tolist()[:2] #Recommend top 2 types\n",
    "\n",
    "        recommendations = [\n",
    "            f\"Focus on the following topics where you need improvement: {', '.join(weakest_topics)}\",\n",
    "            difficulty_recommendation,\n",
    "            f\"Practice the following question types within those topics: {', '.join(recommended_question_types)}\"\n",
    "        ]\n",
    "        return \"\\n\".join(recommendations)\n",
    "\n",
    "    except Exception as e:\n",
    "        return f\"Error during analysis: {e}\"\n",
    "\n",
    "def main():\n",
    "    try:\n",
    "        user_df = pd.read_csv('api_Endpoin.csv')\n",
    "        question_df = pd.read_csv('quiz_endpoint.csv')\n",
    "        id_column_name = 'id'\n",
    "\n",
    "        while True:\n",
    "            try:\n",
    "                user_id_input = input(f\"Enter {id_column_name} (or 'exit'): \")\n",
    "                if user_id_input.lower() == 'exit':\n",
    "                    break\n",
    "\n",
    "                try:\n",
    "                    user_id_to_analyze = int(user_id_input)\n",
    "                except ValueError:\n",
    "                    print(\"Invalid input. Please enter a valid integer ID or 'exit'.\")\n",
    "                    continue\n",
    "\n",
    "                insights = generate_user_recommendations(user_df, question_df, user_id_to_analyze, id_column_name)\n",
    "                print(insights)\n",
    "\n",
    "            except Exception as e:\n",
    "                print(f\"Error during user analysis: {e}\")\n",
    "\n",
    "    except FileNotFoundError as e:\n",
    "        print(f\"Error: File not found: {e.filename}\")\n",
    "    except pd.errors.EmptyDataError as e:\n",
    "        print(f\"Error: Empty data in file: {e}\")\n",
    "    except pd.errors.ParserError as e:\n",
    "        print(f\"Error parsing file: {e}\")\n",
    "    except Exception as e:\n",
    "        print(f\"An unexpected error occurred during file processing: {e}\")\n",
    "\n",
    "if __name__ == \"__main__\":\n",
    "    main()"
   ]
  },
  {
   "cell_type": "code",
   "execution_count": null,
   "id": "0bb36616-9140-4d06-9602-e5150da16e56",
   "metadata": {},
   "outputs": [],
   "source": []
  }
 ],
 "metadata": {
  "kernelspec": {
   "display_name": "Python 3 (ipykernel)",
   "language": "python",
   "name": "python3"
  },
  "language_info": {
   "codemirror_mode": {
    "name": "ipython",
    "version": 3
   },
   "file_extension": ".py",
   "mimetype": "text/x-python",
   "name": "python",
   "nbconvert_exporter": "python",
   "pygments_lexer": "ipython3",
   "version": "3.12.6"
  }
 },
 "nbformat": 4,
 "nbformat_minor": 5
}
