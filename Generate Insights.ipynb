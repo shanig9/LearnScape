{
 "cells": [
  {
   "cell_type": "markdown",
   "id": "4d961c4d-ded0-40eb-9566-1ece84c84ce2",
   "metadata": {},
   "source": [
    "# Generate Insights:"
   ]
  },
  {
   "cell_type": "code",
   "execution_count": 4,
   "id": "e992f16e-9af7-4e48-9a47-d41de0e980c3",
   "metadata": {},
   "outputs": [],
   "source": [
    "import pandas as pd\n",
    "\n",
    "def generate_user_insights(df, user_id_to_analyze, id_column_name='id'):\n",
    "    \"\"\"Generates insights for a given user (manual analysis).\"\"\"\n",
    "\n",
    "    # ... (column checking code remains the same)\n",
    "\n",
    "    user_data = df[df[id_column_name] == user_id_to_analyze].copy()\n",
    "    if user_data.empty:\n",
    "        return f\"No data found for ID: {user_id_to_analyze} in column '{id_column_name}'\"\n",
    "\n",
    "    try:\n",
    "        user_data['submitted_at'] = pd.to_datetime(user_data['submitted_at'])\n",
    "        user_data['quiz_created_at'] = pd.to_datetime(user_data['quiz_created_at'])\n",
    "        user_data['time_taken'] = (user_data['submitted_at'] - user_data['quiz_created_at']).dt.total_seconds()\n",
    "\n",
    "        # Convert accuracy to numeric (handling both string and numeric values)\n",
    "        if user_data['accuracy'].dtype == object:  # Check if it's string type\n",
    "            user_data['accuracy'] = user_data['accuracy'].str.replace('%', '', regex=False) #Remove % sign\n",
    "            user_data['accuracy'] = pd.to_numeric(user_data['accuracy'], errors='coerce') / 100 #Convert to number and divide by 100\n",
    "        elif pd.api.types.is_numeric_dtype(user_data['accuracy']):\n",
    "            user_data['accuracy'] = pd.to_numeric(user_data['accuracy'], errors='coerce') #Convert to numeric if it is not already\n",
    "        else:\n",
    "            return \"Error: Accuracy column has an unsupported data type.\"\n",
    "\n",
    "        #Remove nan values after converting to numeric\n",
    "        user_data.dropna(subset=['accuracy'], inplace=True)\n",
    "        if user_data.empty:\n",
    "            return f\"No valid accuracy data found for ID: {user_id_to_analyze} in column '{id_column_name}'\"\n",
    "\n",
    "        # 1. Average Accuracy\n",
    "        user_average_accuracy = user_data['accuracy'].mean()\n",
    "        print(f\"\\nAverage Accuracy: {user_average_accuracy:.2%}\")\n",
    "\n",
    "        # ... (rest of the analysis code remains the same)\n",
    "\n",
    "    except Exception as e:\n",
    "        return f\"Error during analysis: {e}\"\n",
    "\n",
    "# ... (main function remains the same)"
   ]
  },
  {
   "cell_type": "code",
   "execution_count": 5,
   "id": "f2a229a7-3c72-4326-97fc-4ac7369e0922",
   "metadata": {},
   "outputs": [
    {
     "name": "stdin",
     "output_type": "stream",
     "text": [
      "Enter id (or 'exit'):  333242\n"
     ]
    },
    {
     "name": "stdout",
     "output_type": "stream",
     "text": [
      "\n",
      "Average Accuracy: 90.00%\n",
      "None\n"
     ]
    },
    {
     "name": "stdin",
     "output_type": "stream",
     "text": [
      "Enter id (or 'exit'):  exit\n"
     ]
    }
   ],
   "source": [
    "def main():\n",
    "    try:\n",
    "        df = pd.read_csv('api_Endpoin.csv')\n",
    "        id_column_name = 'id'\n",
    "\n",
    "        while True:\n",
    "            try:\n",
    "                user_id_input = input(f\"Enter {id_column_name} (or 'exit'): \")\n",
    "                if user_id_input.lower() == 'exit':\n",
    "                    break\n",
    "\n",
    "                try:\n",
    "                    user_id_to_analyze = int(user_id_input)\n",
    "                except ValueError:\n",
    "                    print(\"Invalid input. Please enter a valid integer ID or 'exit'.\")\n",
    "                    continue\n",
    "\n",
    "                insights = generate_user_insights(df, user_id_to_analyze, id_column_name)\n",
    "                print(insights)\n",
    "\n",
    "            except Exception as e:\n",
    "                print(f\"Error during user analysis: {e}\")\n",
    "\n",
    "    except FileNotFoundError:\n",
    "        print(\"Error: 'your_data.csv' not found.\")\n",
    "    except pd.errors.EmptyDataError:\n",
    "        print(\"Error: The CSV file is empty.\")\n",
    "    except pd.errors.ParserError:\n",
    "        print(\"Error: Failed to parse the CSV file.\")\n",
    "    except Exception as e:\n",
    "        print(f\"An unexpected error occurred during file processing: {e}\")\n",
    "\n",
    "if __name__ == \"__main__\":\n",
    "    main()"
   ]
  },
  {
   "cell_type": "code",
   "execution_count": null,
   "id": "1cde569f-cc7b-4e30-852a-2872557d8264",
   "metadata": {},
   "outputs": [],
   "source": []
  }
 ],
 "metadata": {
  "kernelspec": {
   "display_name": "Python 3 (ipykernel)",
   "language": "python",
   "name": "python3"
  },
  "language_info": {
   "codemirror_mode": {
    "name": "ipython",
    "version": 3
   },
   "file_extension": ".py",
   "mimetype": "text/x-python",
   "name": "python",
   "nbconvert_exporter": "python",
   "pygments_lexer": "ipython3",
   "version": "3.12.6"
  }
 },
 "nbformat": 4,
 "nbformat_minor": 5
}
